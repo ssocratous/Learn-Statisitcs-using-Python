{
 "cells": [
  {
   "cell_type": "code",
   "execution_count": 14,
   "metadata": {},
   "outputs": [
    {
     "name": "stdout",
     "output_type": "stream",
     "text": [
      "[175.93424 222.82404 275.47383]\n",
      "\n",
      "The first quartile of dataset one is 175.93424 seconds\n",
      "The second quartile of dataset one is 222.82404 seconds\n",
      "The third quartile of dataset one is 275.47383 seconds\n",
      "Your favourite song which lasts 306.72934 seconds is in the 4th quarter\n"
     ]
    },
    {
     "data": {
      "text/plain": [
       "(array([  4.,   6.,   9.,   5.,  11.,  22.,  19.,  19.,  27.,  20.,  29.,\n",
       "         22.,  25.,  21.,  27.,  34.,  33.,  38.,  38.,  39.,  44.,  48.,\n",
       "         59.,  69.,  86., 101., 112., 115., 118., 152., 177., 163., 212.,\n",
       "        217., 241., 217., 246., 252., 283., 242., 276., 254., 278., 275.,\n",
       "        283., 267., 290., 290., 267., 230., 226., 205., 204., 203., 185.,\n",
       "        168., 178., 153., 157., 127., 101., 100.,  88.,  95.,  86.,  69.,\n",
       "         78.,  68.,  69.,  70.,  56.,  54.,  44.,  40.,  50.,  31.,  35.,\n",
       "         32.,  28.,  27.,  43.,  22.,  27.,  28.,  25.,  25.,  23.,  20.,\n",
       "         16.,  19.,  16.,  14.,  14.,  18.,  19.,  10.,  12.,  13.,  10.,\n",
       "         13.,  12.,  15.,   8.,  12.,  14.,  14.,   4.,  10.,   9.,   9.,\n",
       "          5.,   5.,  11.,   5.,   4.,   5.,   3.,   4.,   0.,   6.,   4.,\n",
       "          7.,   2.,   3.,   2.,   3.,   3.,   3.,   1.,   4.,   2.,   2.,\n",
       "          3.,   3.,   1.,   1.,   2.,   1.,   0.,   1.,   2.,   2.,   1.,\n",
       "          0.,   1.,   0.,   2.,   1.,   1.,   2.,   2.,   1.,   1.,   1.,\n",
       "          1.,   0.,   2.,   0.,   1.,   0.,   0.,   1.,   1.,   0.,   2.,\n",
       "          0.,   1.,   0.,   2.,   2.,   0.,   1.,   0.,   0.,   1.,   1.,\n",
       "          0.,   0.,   3.,   0.,   0.,   0.,   0.,   0.,   0.,   2.,   0.,\n",
       "          1.,   0.,   1.,   1.,   0.,   0.,   0.,   1.,   0.,   0.,   0.,\n",
       "          3.,   1.]),\n",
       " array([  1.04444   ,   5.96199105,  10.8795421 ,  15.79709315,\n",
       "         20.7146442 ,  25.63219525,  30.5497463 ,  35.46729735,\n",
       "         40.3848484 ,  45.30239945,  50.2199505 ,  55.13750155,\n",
       "         60.0550526 ,  64.97260365,  69.8901547 ,  74.80770575,\n",
       "         79.7252568 ,  84.64280785,  89.5603589 ,  94.47790995,\n",
       "         99.395461  , 104.31301205, 109.2305631 , 114.14811415,\n",
       "        119.0656652 , 123.98321625, 128.9007673 , 133.81831835,\n",
       "        138.7358694 , 143.65342045, 148.5709715 , 153.48852255,\n",
       "        158.4060736 , 163.32362465, 168.2411757 , 173.15872675,\n",
       "        178.0762778 , 182.99382885, 187.9113799 , 192.82893095,\n",
       "        197.746482  , 202.66403305, 207.5815841 , 212.49913515,\n",
       "        217.4166862 , 222.33423725, 227.2517883 , 232.16933935,\n",
       "        237.0868904 , 242.00444145, 246.9219925 , 251.83954355,\n",
       "        256.7570946 , 261.67464565, 266.5921967 , 271.50974775,\n",
       "        276.4272988 , 281.34484985, 286.2624009 , 291.17995195,\n",
       "        296.097503  , 301.01505405, 305.9326051 , 310.85015615,\n",
       "        315.7677072 , 320.68525825, 325.6028093 , 330.52036035,\n",
       "        335.4379114 , 340.35546245, 345.2730135 , 350.19056455,\n",
       "        355.1081156 , 360.02566665, 364.9432177 , 369.86076875,\n",
       "        374.7783198 , 379.69587085, 384.6134219 , 389.53097295,\n",
       "        394.448524  , 399.36607505, 404.2836261 , 409.20117715,\n",
       "        414.1187282 , 419.03627925, 423.9538303 , 428.87138135,\n",
       "        433.7889324 , 438.70648345, 443.6240345 , 448.54158555,\n",
       "        453.4591366 , 458.37668765, 463.2942387 , 468.21178975,\n",
       "        473.1293408 , 478.04689185, 482.9644429 , 487.88199395,\n",
       "        492.799545  , 497.71709605, 502.6346471 , 507.55219815,\n",
       "        512.4697492 , 517.38730025, 522.3048513 , 527.22240235,\n",
       "        532.1399534 , 537.05750445, 541.9750555 , 546.89260655,\n",
       "        551.8101576 , 556.72770865, 561.6452597 , 566.56281075,\n",
       "        571.4803618 , 576.39791285, 581.3154639 , 586.23301495,\n",
       "        591.150566  , 596.06811705, 600.9856681 , 605.90321915,\n",
       "        610.8207702 , 615.73832125, 620.6558723 , 625.57342335,\n",
       "        630.4909744 , 635.40852545, 640.3260765 , 645.24362755,\n",
       "        650.1611786 , 655.07872965, 659.9962807 , 664.91383175,\n",
       "        669.8313828 , 674.74893385, 679.6664849 , 684.58403595,\n",
       "        689.501587  , 694.41913805, 699.3366891 , 704.25424015,\n",
       "        709.1717912 , 714.08934225, 719.0068933 , 723.92444435,\n",
       "        728.8419954 , 733.75954645, 738.6770975 , 743.59464855,\n",
       "        748.5121996 , 753.42975065, 758.3473017 , 763.26485275,\n",
       "        768.1824038 , 773.09995485, 778.0175059 , 782.93505695,\n",
       "        787.852608  , 792.77015905, 797.6877101 , 802.60526115,\n",
       "        807.5228122 , 812.44036325, 817.3579143 , 822.27546535,\n",
       "        827.1930164 , 832.11056745, 837.0281185 , 841.94566955,\n",
       "        846.8632206 , 851.78077165, 856.6983227 , 861.61587375,\n",
       "        866.5334248 , 871.45097585, 876.3685269 , 881.28607795,\n",
       "        886.203629  , 891.12118005, 896.0387311 , 900.95628215,\n",
       "        905.8738332 , 910.79138425, 915.7089353 , 920.62648635,\n",
       "        925.5440374 , 930.46158845, 935.3791395 , 940.29669055,\n",
       "        945.2142416 , 950.13179265, 955.0493437 , 959.96689475,\n",
       "        964.8844458 , 969.80199685, 974.7195479 , 979.63709895,\n",
       "        984.55465   ]),\n",
       " <a list of 200 Patch objects>)"
      ]
     },
     "execution_count": 14,
     "metadata": {},
     "output_type": "execute_result"
    },
    {
     "data": {
      "text/plain": [
       "<matplotlib.lines.Line2D at 0x1798fd58c50>"
      ]
     },
     "execution_count": 14,
     "metadata": {},
     "output_type": "execute_result"
    },
    {
     "data": {
      "text/plain": [
       "<matplotlib.lines.Line2D at 0x1798fd4b550>"
      ]
     },
     "execution_count": 14,
     "metadata": {},
     "output_type": "execute_result"
    },
    {
     "data": {
      "text/plain": [
       "<matplotlib.lines.Line2D at 0x1798fef2358>"
      ]
     },
     "execution_count": 14,
     "metadata": {},
     "output_type": "execute_result"
    },
    {
     "data": {
      "text/plain": [
       "Text(0.5,0,'Song Length (Seconds)')"
      ]
     },
     "execution_count": 14,
     "metadata": {},
     "output_type": "execute_result"
    },
    {
     "data": {
      "text/plain": [
       "Text(0,0.5,'Count')"
      ]
     },
     "execution_count": 14,
     "metadata": {},
     "output_type": "execute_result"
    },
    {
     "data": {
      "text/plain": [
       "<matplotlib.legend.Legend at 0x1798fef2fd0>"
      ]
     },
     "execution_count": 14,
     "metadata": {},
     "output_type": "execute_result"
    },
    {
     "data": {
      "image/png": "[encoded data removed]",
      "text/plain": [
       "<Figure size 432x288 with 1 Axes>"
      ]
     },
     "metadata": {},
     "output_type": "display_data"
    }
   ],
   "source": [
    "import numpy as np\n",
    "from song_data import songs\n",
    "import matplotlib.pyplot as plt\n",
    "\n",
    "#Create the variables songs_q1, songs_q2, and songs_q3 to represent each quartile of songs data\n",
    "songs_q1=np.quantile(songs,0.25)\n",
    "songs_q2=np.quantile(songs,0.5)\n",
    "songs_q3=np.quantile(songs,0.75)\n",
    "favorite_song=306.72934\n",
    "quarter=4\n",
    "\n",
    "\n",
    "#you can use a tuple to derive q1, q2 and q3 at the same time\n",
    "print(np.quantile(songs,[0.25,0.5,0.75]))\n",
    "print()\n",
    "\n",
    "try:\n",
    "  print(\"The first quartile of dataset one is \" + str(songs_q1) + \" seconds\")\n",
    "except NameError:\n",
    "  print(\"You haven't defined songs_q1\")\n",
    "try:\n",
    "  print(\"The second quartile of dataset one is \" + str(songs_q2)+ \" seconds\")\n",
    "except NameError:\n",
    "  print(\"You haven't defined songs_q2\")\n",
    "try:\n",
    "  print(\"The third quartile of dataset one is \" + str(songs_q3)+ \" seconds\")\n",
    "except NameError:\n",
    "  print(\"You haven't defined songs_q3\\n\")\n",
    "\n",
    "print(\"Your favourite song which lasts \"+ str(favorite_song) +  \" seconds is in the \" + str(quarter)+\"th quarter\")\n",
    "\n",
    "\n",
    "\n",
    "plt.hist(songs, bins = 200)\n",
    "plt.axvline(x=songs_q1, label=\"Q1\", c = 'purple')\n",
    "plt.axvline(x=songs_q2, label=\"Q2\", c = 'red')\n",
    "plt.axvline(x=songs_q3, label=\"Q3\", c = 'yellow')\n",
    "plt.xlabel(\"Song Length (Seconds)\")\n",
    "plt.ylabel(\"Count\")\n",
    "plt.legend()\n",
    "plt.show()"
   ]
  },
  {
   "cell_type": "code",
   "execution_count": null,
   "metadata": {},
   "outputs": [],
   "source": []
  }
 ],
 "metadata": {
  "kernelspec": {
   "display_name": "Python 3",
   "language": "python",
   "name": "python3"
  },
  "language_info": {
   "codemirror_mode": {
    "name": "ipython",
    "version": 3
   },
   "file_extension": ".py",
   "mimetype": "text/x-python",
   "name": "python",
   "nbconvert_exporter": "python",
   "pygments_lexer": "ipython3",
   "version": "3.6.4"
  }
 },
 "nbformat": 4,
 "nbformat_minor": 2
}
