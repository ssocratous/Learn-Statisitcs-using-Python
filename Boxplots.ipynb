{
 "cells": [
  {
   "cell_type": "code",
   "execution_count": 28,
   "metadata": {},
   "outputs": [
    {
     "data": {
      "text/plain": [
       "{'boxes': [<matplotlib.lines.Line2D at 0x2ab4fe04668>,\n",
       "  <matplotlib.lines.Line2D at 0x2ab4f492160>,\n",
       "  <matplotlib.lines.Line2D at 0x2ab4efbaeb8>,\n",
       "  <matplotlib.lines.Line2D at 0x2ab520d5c50>,\n",
       "  <matplotlib.lines.Line2D at 0x2ab502349e8>],\n",
       " 'caps': [<matplotlib.lines.Line2D at 0x2ab504830b8>,\n",
       "  <matplotlib.lines.Line2D at 0x2ab504834e0>,\n",
       "  <matplotlib.lines.Line2D at 0x2ab4f492e10>,\n",
       "  <matplotlib.lines.Line2D at 0x2ab4efba278>,\n",
       "  <matplotlib.lines.Line2D at 0x2ab5015aba8>,\n",
       "  <matplotlib.lines.Line2D at 0x2ab5015afd0>,\n",
       "  <matplotlib.lines.Line2D at 0x2ab52e9e940>,\n",
       "  <matplotlib.lines.Line2D at 0x2ab52e9ed68>,\n",
       "  <matplotlib.lines.Line2D at 0x2ab519526d8>,\n",
       "  <matplotlib.lines.Line2D at 0x2ab51952b00>],\n",
       " 'fliers': [<matplotlib.lines.Line2D at 0x2ab50483d30>,\n",
       "  <matplotlib.lines.Line2D at 0x2ab4efbaac8>,\n",
       "  <matplotlib.lines.Line2D at 0x2ab520d5860>,\n",
       "  <matplotlib.lines.Line2D at 0x2ab502345f8>,\n",
       "  <matplotlib.lines.Line2D at 0x2ab52dd6390>],\n",
       " 'means': [],\n",
       " 'medians': [<matplotlib.lines.Line2D at 0x2ab50483908>,\n",
       "  <matplotlib.lines.Line2D at 0x2ab4efba6a0>,\n",
       "  <matplotlib.lines.Line2D at 0x2ab520d5438>,\n",
       "  <matplotlib.lines.Line2D at 0x2ab502341d0>,\n",
       "  <matplotlib.lines.Line2D at 0x2ab51952f28>],\n",
       " 'whiskers': [<matplotlib.lines.Line2D at 0x2ab4fe047b8>,\n",
       "  <matplotlib.lines.Line2D at 0x2ab4fe04c50>,\n",
       "  <matplotlib.lines.Line2D at 0x2ab4f4925c0>,\n",
       "  <matplotlib.lines.Line2D at 0x2ab4f4929e8>,\n",
       "  <matplotlib.lines.Line2D at 0x2ab5015a358>,\n",
       "  <matplotlib.lines.Line2D at 0x2ab5015a780>,\n",
       "  <matplotlib.lines.Line2D at 0x2ab52e9e0f0>,\n",
       "  <matplotlib.lines.Line2D at 0x2ab52e9e518>,\n",
       "  <matplotlib.lines.Line2D at 0x2ab50234e48>,\n",
       "  <matplotlib.lines.Line2D at 0x2ab519522b0>]}"
      ]
     },
     "execution_count": 28,
     "metadata": {},
     "output_type": "execute_result"
    },
    {
     "data": {
      "image/png": "[encoded data removed]",
      "text/plain": [
       "<Figure size 432x288 with 1 Axes>"
      ]
     },
     "metadata": {},
     "output_type": "display_data"
    },
    {
     "data": {
      "text/plain": [
       "<matplotlib.axes._subplots.AxesSubplot at 0x2ab50105080>"
      ]
     },
     "execution_count": 28,
     "metadata": {},
     "output_type": "execute_result"
    },
    {
     "data": {
      "text/plain": [
       "(array([ 10.,  37., 103., 223., 286., 224.,  90.,  24.,   1.,   2.]),\n",
       " array([-2.05376438, -1.35252767, -0.65129096,  0.04994574,  0.75118245,\n",
       "         1.45241916,  2.15365587,  2.85489258,  3.55612929,  4.257366  ,\n",
       "         4.9586027 ]),\n",
       " <a list of 10 Patch objects>)"
      ]
     },
     "execution_count": 28,
     "metadata": {},
     "output_type": "execute_result"
    },
    {
     "data": {
      "text/plain": [
       "(-20, 20)"
      ]
     },
     "execution_count": 28,
     "metadata": {},
     "output_type": "execute_result"
    },
    {
     "data": {
      "text/plain": [
       "Text(0.5,0,'a')"
      ]
     },
     "execution_count": 28,
     "metadata": {},
     "output_type": "execute_result"
    },
    {
     "data": {
      "text/plain": [
       "<matplotlib.axes._subplots.AxesSubplot at 0x2ab5229d5f8>"
      ]
     },
     "execution_count": 28,
     "metadata": {},
     "output_type": "execute_result"
    },
    {
     "data": {
      "text/plain": [
       "(array([  9.,  24.,  90., 176., 244., 225., 136.,  78.,  15.,   3.]),\n",
       " array([-9.46007235, -7.48426609, -5.50845982, -3.53265356, -1.55684729,\n",
       "         0.41895897,  2.39476524,  4.3705715 ,  6.34637777,  8.32218403,\n",
       "        10.2979903 ]),\n",
       " <a list of 10 Patch objects>)"
      ]
     },
     "execution_count": 28,
     "metadata": {},
     "output_type": "execute_result"
    },
    {
     "data": {
      "text/plain": [
       "(-20, 20)"
      ]
     },
     "execution_count": 28,
     "metadata": {},
     "output_type": "execute_result"
    },
    {
     "data": {
      "text/plain": [
       "Text(0.5,0,'b')"
      ]
     },
     "execution_count": 28,
     "metadata": {},
     "output_type": "execute_result"
    },
    {
     "data": {
      "text/plain": [
       "<matplotlib.axes._subplots.AxesSubplot at 0x2ab51e0df60>"
      ]
     },
     "execution_count": 28,
     "metadata": {},
     "output_type": "execute_result"
    },
    {
     "data": {
      "text/plain": [
       "(array([  5.,  37., 120., 206., 270., 221., 106.,  28.,   5.,   2.]),\n",
       " array([-2.59621203, -1.5755535 , -0.55489496,  0.46576358,  1.48642212,\n",
       "         2.50708066,  3.5277392 ,  4.54839774,  5.56905628,  6.58971482,\n",
       "         7.61037336]),\n",
       " <a list of 10 Patch objects>)"
      ]
     },
     "execution_count": 28,
     "metadata": {},
     "output_type": "execute_result"
    },
    {
     "data": {
      "text/plain": [
       "(-20, 20)"
      ]
     },
     "execution_count": 28,
     "metadata": {},
     "output_type": "execute_result"
    },
    {
     "data": {
      "text/plain": [
       "Text(0.5,0,'c')"
      ]
     },
     "execution_count": 28,
     "metadata": {},
     "output_type": "execute_result"
    },
    {
     "data": {
      "text/plain": [
       "<matplotlib.axes._subplots.AxesSubplot at 0x2ab51aefa90>"
      ]
     },
     "execution_count": 28,
     "metadata": {},
     "output_type": "execute_result"
    },
    {
     "data": {
      "text/plain": [
       "(array([  8.,  39., 100., 190., 228., 230., 117.,  61.,  21.,   6.]),\n",
       " array([-18.36025125, -15.30505453, -12.2498578 ,  -9.19466108,\n",
       "         -6.13946436,  -3.08426763,  -0.02907091,   3.02612581,\n",
       "          6.08132254,   9.13651926,  12.19171598]),\n",
       " <a list of 10 Patch objects>)"
      ]
     },
     "execution_count": 28,
     "metadata": {},
     "output_type": "execute_result"
    },
    {
     "data": {
      "text/plain": [
       "(-20, 20)"
      ]
     },
     "execution_count": 28,
     "metadata": {},
     "output_type": "execute_result"
    },
    {
     "data": {
      "text/plain": [
       "Text(0.5,0,'d')"
      ]
     },
     "execution_count": 28,
     "metadata": {},
     "output_type": "execute_result"
    },
    {
     "data": {
      "text/plain": [
       "<matplotlib.axes._subplots.AxesSubplot at 0x2ab582176d8>"
      ]
     },
     "execution_count": 28,
     "metadata": {},
     "output_type": "execute_result"
    },
    {
     "data": {
      "text/plain": [
       "(array([  6.,  21.,  51., 108., 192., 247., 206.,  99.,  54.,  16.]),\n",
       " array([-1.50606847, -0.2859052 ,  0.93425807,  2.15442134,  3.37458461,\n",
       "         4.59474788,  5.81491115,  7.03507442,  8.25523769,  9.47540096,\n",
       "        10.69556424]),\n",
       " <a list of 10 Patch objects>)"
      ]
     },
     "execution_count": 28,
     "metadata": {},
     "output_type": "execute_result"
    },
    {
     "data": {
      "text/plain": [
       "(-20, 20)"
      ]
     },
     "execution_count": 28,
     "metadata": {},
     "output_type": "execute_result"
    },
    {
     "data": {
      "text/plain": [
       "Text(0.5,0,'e')"
      ]
     },
     "execution_count": 28,
     "metadata": {},
     "output_type": "execute_result"
    },
    {
     "data": {
      "image/png": "[encoded data removed]",
      "text/plain": [
       "<Figure size 432x288 with 5 Axes>"
      ]
     },
     "metadata": {},
     "output_type": "display_data"
    }
   ],
   "source": [
    "import numpy as np\n",
    "import matplotlib.pyplot as plt\n",
    "\n",
    "np.random.seed(1)\n",
    "\n",
    "a = np.random.normal(1, 1, 1000)\n",
    "b = np.random.normal(0, 3, 1000)\n",
    "c = np.random.normal(2, 1.5, 1000)\n",
    "d = np.random.normal(-4, 5, 1000)\n",
    "e = np.random.normal(5, 2, 1000)\n",
    "plt.boxplot([a,b,c,d,e],labels=[\"a\",\"b\",\"c\",\"d\",\"e\"])\n",
    "plt.show()\n",
    "plt.subplot(511)\n",
    "plt.hist(a,edgecolor='b')\n",
    "plt.xlim([-20,20])\n",
    "plt.xlabel('a',fontsize='13',fontweight='bold')\n",
    "plt.subplot(512)\n",
    "plt.hist(b,edgecolor='b')\n",
    "plt.xlim([-20,20])\n",
    "plt.xlabel('b',fontsize='13',fontweight='bold')\n",
    "plt.subplot(513)\n",
    "plt.hist(c,edgecolor='b')\n",
    "plt.xlim([-20,20])\n",
    "plt.xlabel('c',fontsize='13',fontweight='bold')\n",
    "plt.subplot(514)\n",
    "plt.hist(d,edgecolor='b')\n",
    "plt.xlim([-20,20])\n",
    "plt.xlabel('d',fontsize='13',fontweight='bold')\n",
    "plt.subplot(515)\n",
    "plt.hist(e,edgecolor='b')\n",
    "plt.xlim([-20,20])\n",
    "plt.xlabel('e',fontsize='13',fontweight='bold')\n",
    "plt.tight_layout()\n",
    "plt.show()\n",
    "\n"
   ]
  },
  {
   "cell_type": "code",
   "execution_count": null,
   "metadata": {},
   "outputs": [],
   "source": []
  },
  {
   "cell_type": "code",
   "execution_count": null,
   "metadata": {},
   "outputs": [],
   "source": []
  }
 ],
 "metadata": {
  "kernelspec": {
   "display_name": "Python 3",
   "language": "python",
   "name": "python3"
  },
  "language_info": {
   "codemirror_mode": {
    "name": "ipython",
    "version": 3
   },
   "file_extension": ".py",
   "mimetype": "text/x-python",
   "name": "python",
   "nbconvert_exporter": "python",
   "pygments_lexer": "ipython3",
   "version": "3.6.4"
  }
 },
 "nbformat": 4,
 "nbformat_minor": 2
}
