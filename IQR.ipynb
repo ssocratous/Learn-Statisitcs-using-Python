{
 "cells": [
  {
   "cell_type": "code",
   "execution_count": 3,
   "metadata": {},
   "outputs": [
    {
     "name": "stdout",
     "output_type": "stream",
     "text": [
      "The first quartile of the dataset is 175.93424\n",
      "\n",
      "The third quartile of the dataset is 275.47383\n",
      "\n",
      "The IQR of the dataset is 99.53959000000003\n",
      "\n",
      "The interquartile range using the iqr function = 99.53959000000003\n"
     ]
    }
   ],
   "source": [
    "from song_data import songs\n",
    "import numpy as np\n",
    "from scipy.stats import iqr\n",
    "\n",
    "q1 = np.quantile(songs, 0.25)\n",
    "#Create the variables q3 and interquartile_range here:\n",
    "q3 = np.quantile(songs, 0.75)\n",
    "\n",
    "interquartile_range=q3-q1\n",
    "\n",
    "# Ignore the code below here\n",
    "try:\n",
    "  print(\"The first quartile of the dataset is \" + str(q1) + \"\\n\")\n",
    "except NameError:\n",
    "  print(\"You haven't defined q1 yet\\n\")\n",
    "  \n",
    "try:\n",
    "  print(\"The third quartile of the dataset is \" + str(q3) + \"\\n\")\n",
    "except NameError:\n",
    "  print(\"You haven't defined q3 yet\\n\")\n",
    "  \n",
    "try:\n",
    "  print(\"The IQR of the dataset is \" + str(interquartile_range) + \"\\n\")\n",
    "except NameError:\n",
    "  print(\"You haven't defined interquartile_range yet\\n\")\n",
    "\n",
    "\n",
    "#instead of calculating the IQR as above using numpy you can use the iqr function from sub module stats of scipy\n",
    "\n",
    "interquartile_range_iqr = iqr(songs) \n",
    "print(\"The interquartile range using the iqr function = \" + str(interquartile_range_iqr))\n",
    "\n"
   ]
  },
  {
   "cell_type": "code",
   "execution_count": null,
   "metadata": {},
   "outputs": [],
   "source": []
  }
 ],
 "metadata": {
  "kernelspec": {
   "display_name": "Python 3",
   "language": "python",
   "name": "python3"
  },
  "language_info": {
   "codemirror_mode": {
    "name": "ipython",
    "version": 3
   },
   "file_extension": ".py",
   "mimetype": "text/x-python",
   "name": "python",
   "nbconvert_exporter": "python",
   "pygments_lexer": "ipython3",
   "version": "3.6.4"
  }
 },
 "nbformat": 4,
 "nbformat_minor": 2
}
