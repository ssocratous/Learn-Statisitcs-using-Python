{
 "cells": [
  {
   "cell_type": "code",
   "execution_count": 41,
   "metadata": {},
   "outputs": [
    {
     "data": {
      "text/html": [
       "<div>\n",
       "<style scoped>\n",
       "    .dataframe tbody tr th:only-of-type {\n",
       "        vertical-align: middle;\n",
       "    }\n",
       "\n",
       "    .dataframe tbody tr th {\n",
       "        vertical-align: top;\n",
       "    }\n",
       "\n",
       "    .dataframe thead th {\n",
       "        text-align: right;\n",
       "    }\n",
       "</style>\n",
       "<table border=\"1\" class=\"dataframe\">\n",
       "  <thead>\n",
       "    <tr style=\"text-align: right;\">\n",
       "      <th></th>\n",
       "      <th>Unnamed: 0</th>\n",
       "      <th>DRG Definition</th>\n",
       "      <th>Provider Id</th>\n",
       "      <th>Provider Name</th>\n",
       "      <th>Provider Street Address</th>\n",
       "      <th>Provider City</th>\n",
       "      <th>Provider State</th>\n",
       "      <th>Provider Zip Code</th>\n",
       "      <th>Hospital Referral Region Description</th>\n",
       "      <th>Total Discharges</th>\n",
       "      <th>Average Covered Charges</th>\n",
       "      <th>Average Total Payments</th>\n",
       "      <th>Average Medicare Payments</th>\n",
       "    </tr>\n",
       "  </thead>\n",
       "  <tbody>\n",
       "    <tr>\n",
       "      <th>0</th>\n",
       "      <td>80531</td>\n",
       "      <td>313 - CHEST PAIN</td>\n",
       "      <td>220108</td>\n",
       "      <td>MILTON HOSPITAL INC</td>\n",
       "      <td>199 REEDSDALE ROAD</td>\n",
       "      <td>MILTON</td>\n",
       "      <td>MA</td>\n",
       "      <td>2186</td>\n",
       "      <td>MA - Boston</td>\n",
       "      <td>43</td>\n",
       "      <td>6760.53</td>\n",
       "      <td>3547.00</td>\n",
       "      <td>2633.04</td>\n",
       "    </tr>\n",
       "    <tr>\n",
       "      <th>1</th>\n",
       "      <td>82205</td>\n",
       "      <td>313 - CHEST PAIN</td>\n",
       "      <td>10001</td>\n",
       "      <td>SOUTHEAST ALABAMA MEDICAL CENTER</td>\n",
       "      <td>1108 ROSS CLARK CIRCLE</td>\n",
       "      <td>DOTHAN</td>\n",
       "      <td>AL</td>\n",
       "      <td>36301</td>\n",
       "      <td>AL - Dothan</td>\n",
       "      <td>36</td>\n",
       "      <td>19540.55</td>\n",
       "      <td>3428.58</td>\n",
       "      <td>2093.38</td>\n",
       "    </tr>\n",
       "    <tr>\n",
       "      <th>2</th>\n",
       "      <td>82206</td>\n",
       "      <td>313 - CHEST PAIN</td>\n",
       "      <td>10006</td>\n",
       "      <td>ELIZA COFFEE MEMORIAL HOSPITAL</td>\n",
       "      <td>205 MARENGO STREET</td>\n",
       "      <td>FLORENCE</td>\n",
       "      <td>AL</td>\n",
       "      <td>35631</td>\n",
       "      <td>AL - Birmingham</td>\n",
       "      <td>13</td>\n",
       "      <td>20241.84</td>\n",
       "      <td>3849.76</td>\n",
       "      <td>1704.53</td>\n",
       "    </tr>\n",
       "    <tr>\n",
       "      <th>3</th>\n",
       "      <td>82207</td>\n",
       "      <td>313 - CHEST PAIN</td>\n",
       "      <td>10007</td>\n",
       "      <td>MIZELL MEMORIAL HOSPITAL</td>\n",
       "      <td>702 N MAIN ST</td>\n",
       "      <td>OPP</td>\n",
       "      <td>AL</td>\n",
       "      <td>36467</td>\n",
       "      <td>AL - Dothan</td>\n",
       "      <td>34</td>\n",
       "      <td>6417.20</td>\n",
       "      <td>2808.08</td>\n",
       "      <td>1872.38</td>\n",
       "    </tr>\n",
       "    <tr>\n",
       "      <th>4</th>\n",
       "      <td>82208</td>\n",
       "      <td>313 - CHEST PAIN</td>\n",
       "      <td>10011</td>\n",
       "      <td>ST VINCENT'S EAST</td>\n",
       "      <td>50 MEDICAL PARK EAST DRIVE</td>\n",
       "      <td>BIRMINGHAM</td>\n",
       "      <td>AL</td>\n",
       "      <td>35235</td>\n",
       "      <td>AL - Birmingham</td>\n",
       "      <td>33</td>\n",
       "      <td>13311.78</td>\n",
       "      <td>2997.00</td>\n",
       "      <td>2113.84</td>\n",
       "    </tr>\n",
       "  </tbody>\n",
       "</table>\n",
       "</div>"
      ],
      "text/plain": [
       "   Unnamed: 0    DRG Definition  Provider Id  \\\n",
       "0       80531  313 - CHEST PAIN       220108   \n",
       "1       82205  313 - CHEST PAIN        10001   \n",
       "2       82206  313 - CHEST PAIN        10006   \n",
       "3       82207  313 - CHEST PAIN        10007   \n",
       "4       82208  313 - CHEST PAIN        10011   \n",
       "\n",
       "                      Provider Name     Provider Street Address Provider City  \\\n",
       "0               MILTON HOSPITAL INC          199 REEDSDALE ROAD        MILTON   \n",
       "1  SOUTHEAST ALABAMA MEDICAL CENTER      1108 ROSS CLARK CIRCLE        DOTHAN   \n",
       "2    ELIZA COFFEE MEMORIAL HOSPITAL          205 MARENGO STREET      FLORENCE   \n",
       "3          MIZELL MEMORIAL HOSPITAL               702 N MAIN ST           OPP   \n",
       "4                 ST VINCENT'S EAST  50 MEDICAL PARK EAST DRIVE    BIRMINGHAM   \n",
       "\n",
       "  Provider State  Provider Zip Code Hospital Referral Region Description  \\\n",
       "0             MA               2186                          MA - Boston   \n",
       "1             AL              36301                          AL - Dothan   \n",
       "2             AL              35631                      AL - Birmingham   \n",
       "3             AL              36467                          AL - Dothan   \n",
       "4             AL              35235                      AL - Birmingham   \n",
       "\n",
       "    Total Discharges    Average Covered Charges    Average Total Payments   \\\n",
       "0                  43                    6760.53                   3547.00   \n",
       "1                  36                   19540.55                   3428.58   \n",
       "2                  13                   20241.84                   3849.76   \n",
       "3                  34                    6417.20                   2808.08   \n",
       "4                  33                   13311.78                   2997.00   \n",
       "\n",
       "   Average Medicare Payments  \n",
       "0                    2633.04  \n",
       "1                    2093.38  \n",
       "2                    1704.53  \n",
       "3                    1872.38  \n",
       "4                    2113.84  "
      ]
     },
     "execution_count": 41,
     "metadata": {},
     "output_type": "execute_result"
    },
    {
     "name": "stdout",
     "output_type": "stream",
     "text": [
      "The average charges across the 2000 hospitals = $16948\n",
      "The median charges across the 2000 hospitals = $14659\n",
      "The min charge across the 2000 hospitals = $2459\n",
      "The max charge across the 2000 hospitals = $81083\n",
      "The range across the 2000 hospitals = $78623\n"
     ]
    },
    {
     "data": {
      "text/plain": [
       "(array([ 85., 400., 566., 447., 268., 159.,  95.,  85.,  54.,  26.,  17.,\n",
       "         10.,   8.,   3.,   2.,   1.,   2.,   0.,   0.,   2.]),\n",
       " array([ 2459.4 ,  6390.58, 10321.76, 14252.94, 18184.12, 22115.3 ,\n",
       "        26046.48, 29977.66, 33908.84, 37840.02, 41771.2 , 45702.38,\n",
       "        49633.56, 53564.74, 57495.92, 61427.1 , 65358.28, 69289.46,\n",
       "        73220.64, 77151.82, 81083.  ]),\n",
       " <a list of 20 Patch objects>)"
      ]
     },
     "execution_count": 41,
     "metadata": {},
     "output_type": "execute_result"
    },
    {
     "data": {
      "text/plain": [
       "(array([135., 495., 506., 350., 213., 149.,  96.,  94.,  64.,  32.,  24.,\n",
       "         14.,  13.,  15.,  10.,  13.,   4.,   1.,   0.,   2.]),\n",
       " array([2673.   , 2998.364, 3323.728, 3649.092, 3974.456, 4299.82 ,\n",
       "        4625.184, 4950.548, 5275.912, 5601.276, 5926.64 , 6252.004,\n",
       "        6577.368, 6902.732, 7228.096, 7553.46 , 7878.824, 8204.188,\n",
       "        8529.552, 8854.916, 9180.28 ]),\n",
       " <a list of 20 Patch objects>)"
      ]
     },
     "execution_count": 41,
     "metadata": {},
     "output_type": "execute_result"
    },
    {
     "data": {
      "text/plain": [
       "Text(0.5,0,'Cost($)')"
      ]
     },
     "execution_count": 41,
     "metadata": {},
     "output_type": "execute_result"
    },
    {
     "data": {
      "text/plain": [
       "Text(0,0.5,'Count')"
      ]
     },
     "execution_count": 41,
     "metadata": {},
     "output_type": "execute_result"
    },
    {
     "data": {
      "text/plain": [
       "Text(0.5,1,'Distribution of Chest Pain Cost by Hospital ')"
      ]
     },
     "execution_count": 41,
     "metadata": {},
     "output_type": "execute_result"
    },
    {
     "data": {
      "text/plain": [
       "<matplotlib.lines.Line2D at 0x21bf767e320>"
      ]
     },
     "execution_count": 41,
     "metadata": {},
     "output_type": "execute_result"
    },
    {
     "data": {
      "text/plain": [
       "<matplotlib.lines.Line2D at 0x21bf3882240>"
      ]
     },
     "execution_count": 41,
     "metadata": {},
     "output_type": "execute_result"
    },
    {
     "data": {
      "text/plain": [
       "<matplotlib.legend.Legend at 0x21bf69e6748>"
      ]
     },
     "execution_count": 41,
     "metadata": {},
     "output_type": "execute_result"
    },
    {
     "data": {
      "image/png": "[encoded data removed]",
      "text/plain": [
       "<Figure size 432x288 with 1 Axes>"
      ]
     },
     "metadata": {},
     "output_type": "display_data"
    }
   ],
   "source": [
    "import numpy as np\n",
    "import pandas as pd\n",
    "from matplotlib import pyplot as plt\n",
    "\n",
    "\n",
    "cp_data=pd.read_csv('cp.csv')\n",
    "cp_data.head()\n",
    "covered_charge=cp_data[\" Average Covered Charges \"].values\n",
    "\n",
    "print(\"The average charges across the 2000 hospitals = \" + \"$\" +str(int(np.average(covered_charge))))\n",
    "print(\"The median charges across the 2000 hospitals = \" + \"$\" +str(int(np.median(covered_charge))))\n",
    "print(\"The min charge across the 2000 hospitals = \" + \"$\" +str(int(np.amin(covered_charge))))\n",
    "print(\"The max charge across the 2000 hospitals = \" + \"$\" +str(int(np.amax(covered_charge))))\n",
    "print(\"The range across the 2000 hospitals = \" + \"$\" +str(int(np.amax(covered_charge)-np.amin(covered_charge))))\n",
    "cc_mean=np.average(covered_charge)\n",
    "cc_median=np.median(covered_charge)\n",
    "\n",
    "plt.hist(cp_data[' Average Covered Charges '], bins=20, edgecolor='black')\n",
    "plt.hist(cp_data[' Average Total Payments '], bins=20, edgecolor='black')\n",
    "plt.xlabel(\"Cost($)\",fontsize=15)\n",
    "plt.ylabel(\"Count\",fontsize=15)\n",
    "plt.title(\"Distribution of Chest Pain Cost by Hospital \",fontweight=\"black\",fontsize=16)\n",
    "plt.axvline(cc_mean, color='r', linestyle='solid', linewidth=2, label=\"Mean\")\n",
    "plt.axvline(cc_median, color='y',linestyle='solid',linewidth=2, label=\"Median\")\n",
    "plt.legend()\n",
    "plt.show()\n",
    "\n",
    "\n"
   ]
  },
  {
   "cell_type": "code",
   "execution_count": null,
   "metadata": {},
   "outputs": [],
   "source": []
  }
 ],
 "metadata": {
  "kernelspec": {
   "display_name": "Python 3",
   "language": "python",
   "name": "python3"
  },
  "language_info": {
   "codemirror_mode": {
    "name": "ipython",
    "version": 3
   },
   "file_extension": ".py",
   "mimetype": "text/x-python",
   "name": "python",
   "nbconvert_exporter": "python",
   "pygments_lexer": "ipython3",
   "version": "3.6.4"
  }
 },
 "nbformat": 4,
 "nbformat_minor": 2
}
